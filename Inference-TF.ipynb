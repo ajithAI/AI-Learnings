{
 "cells": [
  {
   "cell_type": "code",
   "execution_count": null,
   "metadata": {},
   "outputs": [],
   "source": [
    "import numpy as np\n",
    "import tensorflow as tf\n",
    "import cv2\n",
    "import matplotlib.pyplot as plt"
   ]
  },
  {
   "cell_type": "code",
   "execution_count": null,
   "metadata": {},
   "outputs": [],
   "source": [
    "graph_def = tf.GraphDef()\n",
    "model = \"yolov3-tiny.pb\"\n",
    "with tf.gfile.FastGFile(model, 'rb') as f:\n",
    "    graph_def.ParseFromString(f.read())\n",
    "    tf.import_graph_def(graph_def, name='')"
   ]
  },
  {
   "cell_type": "code",
   "execution_count": null,
   "metadata": {},
   "outputs": [],
   "source": [
    "sess = tf.Session()"
   ]
  },
  {
   "cell_type": "code",
   "execution_count": null,
   "metadata": {},
   "outputs": [],
   "source": [
    "input_ = sess.graph.get_tensor_by_name('tinyyolov3/net1:0')"
   ]
  },
  {
   "cell_type": "code",
   "execution_count": null,
   "metadata": {},
   "outputs": [],
   "source": [
    "output_1 = sess.graph.get_tensor_by_name('tinyyolov3/convolutional10/BiasAdd:0')\n",
    "output_2 = sess.graph.get_tensor_by_name('tinyyolov3/convolutional13/BiasAdd:0')"
   ]
  },
  {
   "cell_type": "code",
   "execution_count": null,
   "metadata": {},
   "outputs": [],
   "source": [
    "img = cv2.imread(\"New44.jpg\")\n",
    "img = cv2.cvtColor(img, cv2.COLOR_BGR2RGB)"
   ]
  },
  {
   "cell_type": "code",
   "execution_count": null,
   "metadata": {},
   "outputs": [],
   "source": [
    "img = cv2.resize(img, (416,416))"
   ]
  },
  {
   "cell_type": "code",
   "execution_count": null,
   "metadata": {},
   "outputs": [],
   "source": [
    "img = img / 255.0"
   ]
  },
  {
   "cell_type": "code",
   "execution_count": null,
   "metadata": {},
   "outputs": [],
   "source": [
    "img = img.reshape(1, 416, 416,3)"
   ]
  },
  {
   "cell_type": "code",
   "execution_count": null,
   "metadata": {},
   "outputs": [],
   "source": [
    "ans_1, ans_2 = sess.run([output_1,output_2], feed_dict={input_ : img})"
   ]
  },
  {
   "cell_type": "code",
   "execution_count": null,
   "metadata": {},
   "outputs": [],
   "source": [
    "anchors = [[(10,14),  (23,27),  (37,58)], [(81,82),  (135,169),  (344,319)]]"
   ]
  },
  {
   "cell_type": "code",
   "execution_count": null,
   "metadata": {},
   "outputs": [],
   "source": [
    "def sigmoid(x):\n",
    "    return 1 / (1 + np.exp(-x))"
   ]
  },
  {
   "cell_type": "code",
   "execution_count": null,
   "metadata": {},
   "outputs": [],
   "source": [
    "ans = ans_1.reshape(1,13,13,3,-1)"
   ]
  },
  {
   "cell_type": "code",
   "execution_count": null,
   "metadata": {},
   "outputs": [],
   "source": [
    "def class_probabilities(output_layer, objectness_threshold):\n",
    "    output_layer[..., 0:2] = sigmoid(output_layer[..., 0:2])\n",
    "    output_layer[..., 4:] = sigmoid(output_layer[..., 4:])\n",
    "    output_layer[..., 5:]  = output_layer[..., 4][..., np.newaxis] * output_layer[..., 5:]\n",
    "    output_layer[..., 5:] *= output_layer[..., 5:] > objectness_threshold\n",
    "    return output_layer"
   ]
  },
  {
   "cell_type": "code",
   "execution_count": null,
   "metadata": {},
   "outputs": [],
   "source": [
    "output_layer_1 = class_probabilities(output_layer = ans_1 , objectness_threshold = 0.1 )\n",
    "output_layer_1 = output_layer_1.reshape(1,13,13,3,-1)"
   ]
  },
  {
   "cell_type": "code",
   "execution_count": null,
   "metadata": {},
   "outputs": [],
   "source": [
    "output_layer_2 = class_probabilities(output_layer = ans_2, objectness_threshold = 0.1 )\n",
    "output_layer_2 = output_layer_2.reshape(1,26,26,3,-1)"
   ]
  },
  {
   "cell_type": "code",
   "execution_count": null,
   "metadata": {},
   "outputs": [],
   "source": [
    "output_layer_2.shape"
   ]
  },
  {
   "cell_type": "code",
   "execution_count": null,
   "metadata": {},
   "outputs": [],
   "source": [
    "class BoundBox:\n",
    "    def __init__(self, xmin, ymin, xmax, ymax, objness = None, classes = None):\n",
    "        self.xmin = xmin\n",
    "        self.ymin = ymin\n",
    "        self.xmax = xmax\n",
    "        self.ymax = ymax\n",
    "        self.objness = objness\n",
    "        self.classes = classes\n",
    "        self.label = -1\n",
    "        self.score = -1\n",
    "\n",
    "    def get_label(self):\n",
    "        if self.label == -1:\n",
    "            self.label = np.argmax(self.classes)\n",
    "\n",
    "        return self.label\n",
    "\n",
    "    def get_score(self):\n",
    "        if self.score == -1:\n",
    "            self.score = self.classes[self.get_label()]\n",
    "\n",
    "        return self.score"
   ]
  },
  {
   "cell_type": "code",
   "execution_count": null,
   "metadata": {},
   "outputs": [],
   "source": [
    "def boxes_filter_scale(output_layer, anchor, threshold, image_height, image_width):\n",
    "    boxes = []\n",
    "    useful_boxes = 0\n",
    "    num_row, num_col = output_layer.shape[0:2]\n",
    "    num_boxes = len(anchor)\n",
    "    for row in range(num_row):\n",
    "        for col in range(num_col):\n",
    "            for box in range(num_boxes):\n",
    "                if output_layer[row][col][box][4] >= threshold:\n",
    "                    useful_boxes = useful_boxes+1\n",
    "                    x,y,h,w = output_layer[row][col][box][:4]\n",
    "                    x = col + x \n",
    "                    x = x / num_col\n",
    "                    y = row + y\n",
    "                    y = y / num_row\n",
    "                    w = anchor[box][0] * np.exp(w) / image_width \n",
    "                    h = anchor[box][1] * np.exp(h) / image_height\n",
    "                    x1, y1 = x - w/2, y - h/2\n",
    "                    x2, y2 = x + w/2, y + h/2\n",
    "                    \n",
    "                    if x1 < 0 :\n",
    "                        x1 = 0\n",
    "                    if y1 < 0 :\n",
    "                        y1 = 0\n",
    "                    if x2 > 1 :\n",
    "                        x2 = 1\n",
    "                    if y2 > 1 :\n",
    "                        y2 = 1\n",
    "                        \n",
    "                    classes = output_layer[row][col][box][5:]\n",
    "                    objectness = output_layer[row][col][box][4]\n",
    "                    box = BoundBox(x1, y1, x2, y2, objectness, classes)\n",
    "                    boxes.append(box)\n",
    "    total_boxes = num_col * num_row * num_boxes\n",
    "    print(\"Out of {} , Num Boxes Filtered : {} \".format(total_boxes, useful_boxes))\n",
    "    return boxes"
   ]
  },
  {
   "cell_type": "code",
   "execution_count": null,
   "metadata": {},
   "outputs": [],
   "source": [
    "def correct_yolo_boxes(boxes, image_h, image_w, net_h, net_w):\n",
    "    new_w, new_h = net_w, net_h\n",
    "    for i in range(len(boxes)):\n",
    "        x_offset, x_scale = (net_w - new_w)/2./net_w, float(new_w)/net_w\n",
    "        y_offset, y_scale = (net_h - new_h)/2./net_h, float(new_h)/net_h\n",
    "        boxes[i].xmin = int((boxes[i].xmin - x_offset) / x_scale * image_w)\n",
    "        boxes[i].xmax = int((boxes[i].xmax - x_offset) / x_scale * image_w)\n",
    "        boxes[i].ymin = int((boxes[i].ymin - y_offset) / y_scale * image_h)\n",
    "        boxes[i].ymax = int((boxes[i].ymax - y_offset) / y_scale * image_h)"
   ]
  },
  {
   "cell_type": "code",
   "execution_count": null,
   "metadata": {},
   "outputs": [],
   "source": [
    "scaled_boxes = []\n",
    "for batch in range(output_layer_1.shape[0]):\n",
    "    print(\"Batch : \", str(batch+1))\n",
    "    output_layer_1_boxes = boxes_filter_scale(output_layer_1[batch], anchors[0], 0.1, 416, 416)\n",
    "    output_layer_2_boxes = boxes_filter_scale(output_layer_2[batch], anchors[1], 0.1, 416, 416)\n",
    "    scaled_boxes.append([*output_layer_1_boxes, *output_layer_2_boxes])\n",
    "    print(\"**************************************\")"
   ]
  },
  {
   "cell_type": "code",
   "execution_count": null,
   "metadata": {},
   "outputs": [],
   "source": [
    "output_layer_1[0].shape"
   ]
  },
  {
   "cell_type": "code",
   "execution_count": null,
   "metadata": {},
   "outputs": [],
   "source": [
    "correct_yolo_boxes(scaled_boxes[0], 416, 416, 416, 416)"
   ]
  },
  {
   "cell_type": "code",
   "execution_count": null,
   "metadata": {},
   "outputs": [],
   "source": [
    "scaled_boxes"
   ]
  },
  {
   "cell_type": "code",
   "execution_count": null,
   "metadata": {},
   "outputs": [],
   "source": [
    "len(scaled_boxes[0])"
   ]
  },
  {
   "cell_type": "code",
   "execution_count": null,
   "metadata": {},
   "outputs": [],
   "source": [
    "def py_nms(boxes, scores, max_boxes=50, iou_thresh=0.4):\n",
    "\n",
    "    assert boxes.shape[1] == 4 and len(scores.shape) == 1\n",
    "\n",
    "    x1 = boxes[:, 0]\n",
    "    y1 = boxes[:, 1]\n",
    "    x2 = boxes[:, 2]\n",
    "    y2 = boxes[:, 3]\n",
    "\n",
    "    areas = (x2 - x1) * (y2 - y1)\n",
    "    order = scores.argsort()[::-1]\n",
    "\n",
    "    keep = []\n",
    "    while order.size > 0:\n",
    "        i = order[0]\n",
    "        keep.append(i)\n",
    "        xx1 = np.maximum(x1[i], x1[order[1:]])\n",
    "        yy1 = np.maximum(y1[i], y1[order[1:]])\n",
    "        xx2 = np.minimum(x2[i], x2[order[1:]])\n",
    "        yy2 = np.minimum(y2[i], y2[order[1:]])\n",
    "\n",
    "        w = np.maximum(0.0, xx2 - xx1 + 1)\n",
    "        h = np.maximum(0.0, yy2 - yy1 + 1)\n",
    "        inter = w * h\n",
    "        ovr = inter / (areas[i] + areas[order[1:]] - inter)\n",
    "\n",
    "        inds = np.where(ovr <= iou_thresh)[0]\n",
    "        order = order[inds + 1]\n",
    "\n",
    "    return keep"
   ]
  },
  {
   "cell_type": "code",
   "execution_count": null,
   "metadata": {},
   "outputs": [],
   "source": [
    "def cpu_nms(boxes, scores, num_classes, max_boxes=50, score_thresh=0.5, iou_thresh=0.5):\n",
    "\n",
    "    boxes = boxes.reshape(-1, 4)\n",
    "    scores = scores.reshape(-1, num_classes)\n",
    "    picked_boxes, picked_score, picked_label = [], [], []\n",
    "\n",
    "    for i in range(num_classes):\n",
    "        indices = np.where(scores[:,i] >= score_thresh)\n",
    "        filter_boxes = boxes[indices]\n",
    "        filter_scores = scores[:,i][indices]\n",
    "        if len(filter_boxes) == 0: \n",
    "            continue\n",
    "        indices = py_nms(filter_boxes, filter_scores, max_boxes, iou_thresh)\n",
    "        picked_boxes.append(filter_boxes[indices])\n",
    "        picked_score.append(filter_scores[indices])\n",
    "        picked_label.append(np.ones(len(indices), dtype='int32')*i)\n",
    "    if len(picked_boxes) == 0: \n",
    "        return None, None, None\n",
    "\n",
    "    boxes = np.concatenate(picked_boxes, axis=0)\n",
    "    score = np.concatenate(picked_score, axis=0)\n",
    "    label = np.concatenate(picked_label, axis=0)\n",
    "\n",
    "    return boxes, score, label"
   ]
  },
  {
   "cell_type": "code",
   "execution_count": null,
   "metadata": {},
   "outputs": [],
   "source": [
    "dets = []\n",
    "for box in scaled_boxes[0]:\n",
    "    dets.append([box.xmin, box.ymin, box.xmax, box.ymax, box.objness, *box.classes])\n",
    "dets = np.array(dets)"
   ]
  },
  {
   "cell_type": "code",
   "execution_count": null,
   "metadata": {},
   "outputs": [],
   "source": [
    "dets"
   ]
  },
  {
   "cell_type": "code",
   "execution_count": null,
   "metadata": {},
   "outputs": [],
   "source": [
    "boxes, score, label = cpu_nms(dets[:, 0:4], dets[:,5:], 3, 50, 0.2, 0.4)"
   ]
  },
  {
   "cell_type": "code",
   "execution_count": null,
   "metadata": {},
   "outputs": [],
   "source": [
    "imgs = img[0]\n",
    "for box,l in zip(boxes, label):\n",
    "    \n",
    "    assert box[0] < box[2]\n",
    "    assert box[1] < box[3]\n",
    "    \n",
    "    if l ==  0:\n",
    "        r,g,b = 255,255,255\n",
    "        print(box, l)\n",
    "    elif l == 1:\n",
    "        r,g,b = 0,255,0\n",
    "        print(box, l)\n",
    "    elif l == 2:\n",
    "        r,g,b = 0,0,255\n",
    "        print(box, l)\n",
    "    else :\n",
    "        r,g,b = 255,255,0\n",
    "    cv2.rectangle(imgs,(int(box[0]), int(box[1])),(int(box[2]), int(box[3])),(r,g,b),2)\n",
    "\n",
    "plt.figure(figsize=(16,8))\n",
    "imgplot = plt.imshow(imgs)\n",
    "plt.show()\n",
    "print(len(boxes))"
   ]
  },
  {
   "cell_type": "code",
   "execution_count": null,
   "metadata": {},
   "outputs": [],
   "source": []
  }
 ],
 "metadata": {
  "kernelspec": {
   "display_name": "Python 3",
   "language": "python",
   "name": "python3"
  },
  "language_info": {
   "codemirror_mode": {
    "name": "ipython",
    "version": 3
   },
   "file_extension": ".py",
   "mimetype": "text/x-python",
   "name": "python",
   "nbconvert_exporter": "python",
   "pygments_lexer": "ipython3",
   "version": "3.6.8"
  }
 },
 "nbformat": 4,
 "nbformat_minor": 4
}
